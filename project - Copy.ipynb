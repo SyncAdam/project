{
 "cells": [
  {
   "cell_type": "markdown",
   "metadata": {},
   "source": [
    "## Étude"
   ]
  },
  {
   "cell_type": "code",
   "execution_count": null,
   "metadata": {},
   "outputs": [],
   "source": [
    "import numpy as np\n",
    "import random\n",
    "import cv2"
   ]
  },
  {
   "cell_type": "markdown",
   "metadata": {},
   "source": [
    "#### NPS (Non-parametric sampling)\n",
    "\n",
    "Algorithme:"
   ]
  },
  {
   "cell_type": "code",
   "execution_count": 6,
   "metadata": {},
   "outputs": [
    {
     "name": "stdout",
     "output_type": "stream",
     "text": [
      "current pixel : 57x, 57 y\n"
     ]
    }
   ],
   "source": [
    "import cv2\n",
    "import numpy as np\n",
    "\n",
    "def growImage(sample_image, image, window_size):\n",
    "    max_error = 0.3\n",
    "    while not myCountNonZero(image) == image.shape[0] * image.shape[1]:\n",
    "        pixel_list = getUnfilledNeighbours(image)\n",
    "        if not pixel_list:\n",
    "            break\n",
    "        progress = 0\n",
    "        for pixel in pixel_list:\n",
    "            cv2.imshow(\"progress\", image)\n",
    "            cv2.waitKey(1)\n",
    "            print(f\"current pixel : {pixel[0]}x, {pixel[1]} y\")\n",
    "            window = np.array(getNeighbourWindow(image, pixel, window_size))\n",
    "            matches = findMatches(sample_image, window, window_size, pixel)\n",
    "            if matches:\n",
    "                best_match = matches[0]\n",
    "                for ch in range(3):\n",
    "                    image[pixel[0], pixel[1], ch] = sample_image[best_match[0], best_match[1], ch]\n",
    "            cv2.destroyAllWindows()\n",
    "\n",
    "\n",
    "def findMatches(sample_image, window, window_size, pixel):\n",
    "    error_threshold = 0.1\n",
    "\n",
    "    valid_mask = []\n",
    "    columns = []\n",
    "    for i in range(len(window)):\n",
    "        columns = []\n",
    "        for j in range(len(window)):\n",
    "            if(window[i, j, :].any()):\n",
    "                columns.append(1)\n",
    "            else:\n",
    "                columns.append(0)\n",
    "        valid_mask.append(columns)\n",
    "\n",
    "    gaussian_mask = get_gaussian2D(window.shape[0], window_size / 6.4)\n",
    "    weight = np.sum(gaussian_mask * valid_mask)\n",
    "\n",
    "    sum_sqred_diffs = np.zeros((sample_image.shape[0], sample_image.shape[1]))\n",
    "    sum_sqred_diff_arrays = []\n",
    "\n",
    "    for ch in range(3):\n",
    "        sum_sqred_diffs = np.zeros((sample_image.shape[0], sample_image.shape[1]))\n",
    "        iterations = 0\n",
    "        for i in range(sample_image.shape[0]):\n",
    "            for j in range(sample_image.shape[1]):\n",
    "                for ii in range(window.shape[0]):\n",
    "                    for jj in range(window.shape[1]):\n",
    "                        if(valid_mask[ii][jj] == 0 or i - ii < 0 or j - jj < 0):\n",
    "                            continue\n",
    "                        try:\n",
    "                            distance = pow((window[ii, jj, ch] - sample_image[i - ii, j - jj, ch]), 2)\n",
    "                        except:\n",
    "                            #ca a l'aire stupide mais a mon avis ca marche\n",
    "                            distance = pow((window[ii, jj, ch] - sample_image[i + ii, j + jj, ch]), 2)\n",
    "\n",
    "                        sum_sqred_diffs[i, j] += distance * gaussian_mask[ii][jj]\n",
    "                sum_sqred_diffs[i, j] /= weight\n",
    "        sum_sqred_diff_arrays.append(sum_sqred_diffs)\n",
    "    \n",
    "    resultList = []\n",
    "\n",
    "    sumsum = np.zeros((sample_image.shape[0], sample_image.shape[1]))\n",
    "    for ch in range(3):\n",
    "        for i in range(4, sample_image.shape[0] - 3):\n",
    "            for j in range(4, sample_image.shape[1] - 3):\n",
    "                sumsum[i, j] += sum_sqred_diff_arrays[ch][i, j]\n",
    "                print((np.min(sumsum)))\n",
    "                if(sumsum[i, j] <= np.min(sumsum)) * (1 + error_threshold):\n",
    "                    resultList.append((i, j))\n",
    "\n",
    "    return (resultList)\n",
    "\n",
    "def get_gaussian2D(window_size, sigma):\n",
    "    x, y = np.meshgrid(np.arange(window_size), np.arange(window_size) + 1)\n",
    "    x = x - window_size//2\n",
    "    y = y - window_size//2\n",
    "    return 1/(2*np.pi*sigma**2) * np.exp(-(x**2 + y**2)/(2*sigma**2))\n",
    "\n",
    "def getNeighbourWindow(image, pixel, window_size):\n",
    "    window = []\n",
    "    for i in range(max(0, pixel[0] - window_size // 2), min(pixel[0] + window_size // 2, image.shape[0]) + 1):\n",
    "        rows = []\n",
    "        for j in range(max(0, pixel[1] - window_size // 2), min(pixel[1] + window_size // 2, image.shape[1]) + 1):\n",
    "            colors = []\n",
    "            for k in range(3):\n",
    "                colors.append(image[i, j, k])\n",
    "            rows.append(colors)\n",
    "        window.append(rows)\n",
    "    return window\n",
    "\n",
    "# recherche des pixels qui sont voisins a l'extremité de l'image\n",
    "def getUnfilledNeighbours(image):\n",
    "    result = []\n",
    "    for i in range(image.shape[0]):\n",
    "        for j in range(image.shape[1]):\n",
    "            if((image[i, j, 0] == image[i, j, 1] == image[i, j, 2] == 0)):\n",
    "                try:\n",
    "                    if(image[i-1 : i+2, j-1 : j+2, :].any()):\n",
    "                        result.append((i, j))\n",
    "                except IndexError:\n",
    "                    print(\"pixel n'existe pas\")\n",
    "    return result\n",
    "\n",
    "def myCountNonZero(image):\n",
    "    result = 0\n",
    "    for j in range(image.shape[0]):\n",
    "        for k in range(image.shape[1]):\n",
    "            if(not image[j, k, :].any()):\n",
    "                continue\n",
    "            else:\n",
    "                result += 1\n",
    "    return result // 3\n",
    "\n",
    "window_size = 7\n",
    "sample_image = cv2.imread(\".\\\\128x128\\\\brick\\\\Brick_06-128x128.png\") / 255\n",
    "image = np.zeros((sample_image.shape[0], sample_image.shape[1], 3))\n",
    "\n",
    "image[sample_image.shape[0] // 2 - 6 : sample_image.shape[0] // 2 + 7, sample_image.shape[1] // 2 - 6 : sample_image.shape[1] // 2 + 7, :] = sample_image[sample_image.shape[0] // 2 - 6 : sample_image.shape[0] // 2 + 7, sample_image.shape[1] // 2 - 6 : sample_image.shape[1] // 2 + 7, :]\n",
    "\n",
    "image = growImage(sample_image, image, window_size)\n",
    "\n",
    "cv2.imwrite(\"sample.png\", np.ciel(image * 255))\n",
    "cv2.waitKey(0)\n",
    "cv2.destroyAllWindows()"
   ]
  },
  {
   "cell_type": "markdown",
   "metadata": {},
   "source": [
    "### Patch-based TS"
   ]
  },
  {
   "cell_type": "code",
   "execution_count": null,
   "metadata": {},
   "outputs": [],
   "source": [
    "! ..\\patch-based\\texture_synthesis.py --image_path ../patch-based/data/input9.png --block_size 30 --num_block 14 --mode Best"
   ]
  }
 ],
 "metadata": {
  "kernelspec": {
   "display_name": "Python 3",
   "language": "python",
   "name": "python3"
  },
  "language_info": {
   "codemirror_mode": {
    "name": "ipython",
    "version": 3
   },
   "file_extension": ".py",
   "mimetype": "text/x-python",
   "name": "python",
   "nbconvert_exporter": "python",
   "pygments_lexer": "ipython3",
   "version": "3.12.3"
  }
 },
 "nbformat": 4,
 "nbformat_minor": 2
}
