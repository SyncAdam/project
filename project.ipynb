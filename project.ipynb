{
 "cells": [
  {
   "cell_type": "markdown",
   "metadata": {},
   "source": [
    "## Étude"
   ]
  },
  {
   "cell_type": "code",
   "execution_count": 8,
   "metadata": {},
   "outputs": [],
   "source": [
    "import numpy as np\n",
    "import random\n",
    "import cv2"
   ]
  },
  {
   "cell_type": "markdown",
   "metadata": {},
   "source": [
    "#### NPS (Non-parametric sampling)\n",
    "\n",
    "Algorithme:"
   ]
  },
  {
   "cell_type": "code",
   "execution_count": 5,
   "metadata": {},
   "outputs": [
    {
     "name": "stdout",
     "output_type": "stream",
     "text": [
      "current pixel : 57x, 57 y\n",
      "result :2.1599998474121094\n",
      "[(61, 15)]\n",
      "current pixel : 57x, 58 y\n",
      "result :2.0393083095550537\n",
      "[(118, 124)]\n",
      "current pixel : 57x, 59 y\n",
      "result :1.8028253316879272\n",
      "[(118, 125)]\n",
      "current pixel : 57x, 60 y\n",
      "result :1.285941481590271\n",
      "[(63, 13)]\n",
      "current pixel : 57x, 61 y\n",
      "result :1.2587412595748901\n",
      "[(63, 14)]\n",
      "current pixel : 57x, 62 y\n",
      "result :1.2778984308242798\n"
     ]
    }
   ],
   "source": [
    "import cv2\n",
    "import numpy as np\n",
    "\n",
    "def growImage(sample_image, image, window_size):\n",
    "    max_error = 0.3\n",
    "    while not myCountNonZero(image) == image.shape[0] * image.shape[1]:\n",
    "        pixel_list = getUnfilledNeighbours(image)\n",
    "        if not pixel_list:\n",
    "            break\n",
    "        progress = 0\n",
    "        for pixel in pixel_list:\n",
    "            cv2.imshow(\"progress\", image)\n",
    "            cv2.waitKey(1)\n",
    "            print(f\"current pixel : {pixel[0]}x, {pixel[1]} y\")\n",
    "            window = np.array(getNeighbourWindow(image, pixel, window_size))\n",
    "            matches = findMatches(sample_image, window, window_size)\n",
    "            if matches:\n",
    "                best_match = matches[0]\n",
    "                for ch in range(3):\n",
    "                    image[pixel[0], pixel[1], ch] = sample_image[best_match[0], best_match[1], ch]\n",
    "            cv2.destroyAllWindows()\n",
    "    cv2.imwrite(\"thisresult.png\", np.ciel(image * 255))\n",
    "\n",
    "\n",
    "def findMatches(sample_image, window, window_size):\n",
    "    error_threshold = 0.3\n",
    "\n",
    "    valid_mask = []\n",
    "    columns = []\n",
    "    for i in range(len(window)):\n",
    "        columns = []\n",
    "        for j in range(len(window)):\n",
    "            if(window[i, j, :].any()):\n",
    "                columns.append(1)\n",
    "            else:\n",
    "                columns.append(0)\n",
    "        valid_mask.append(columns)\n",
    "\n",
    "    sample_R, sample_G, sample_B = cv2.split(sample_image)\n",
    "    template_R, template_G, template_B = cv2.split(window)\n",
    "    sample_R = sample_R.astype(np.float32)\n",
    "    sample_G = sample_G.astype(np.float32)\n",
    "    sample_B = sample_B.astype(np.float32)\n",
    "    \n",
    "    template_R = template_R.astype(np.float32)\n",
    "    template_G = template_G.astype(np.float32)\n",
    "    template_B = template_B.astype(np.float32)\n",
    "\n",
    "    dimensions = (sample_image.shape[0], sample_image.shape[1])\n",
    "    result_R, result_G, result_B = np.zeros(dimensions), np.zeros(dimensions), np.zeros(dimensions)\n",
    "\n",
    "    resR = cv2.matchTemplate(sample_R, template_R, cv2.TM_SQDIFF, result_R)\n",
    "    resG = cv2.matchTemplate(sample_G, template_G, cv2.TM_SQDIFF, result_G)\n",
    "    resB = cv2.matchTemplate(sample_B, template_B, cv2.TM_SQDIFF, result_B)\n",
    "\n",
    "    result = (resR + resG + resB) / 3\n",
    "\n",
    "    print(f\"result :{np.min(result)}\")\n",
    "\n",
    "    resultList = []\n",
    "    for i in range(sample_image.shape[0] - window_size):\n",
    "        for j in range(sample_image.shape[1] - window_size):\n",
    "            if(result[i, j] <= np.min(result)) * (1 + error_threshold):\n",
    "                resultList.append((i + window_size // 2, j + window_size // 2))\n",
    "    print(resultList)\n",
    "    return(resultList)\n",
    "\n",
    "def get_gaussian2D(window_size, sigma):\n",
    "    x, y = np.meshgrid(np.arange(window_size), np.arange(window_size) + 1)\n",
    "    x = x - window_size//2\n",
    "    y = y - window_size//2\n",
    "    return 1/(2*np.pi*sigma**2) * np.exp(-(x**2 + y**2)/(2*sigma**2))\n",
    "\n",
    "def getNeighbourWindow(image, pixel, window_size):\n",
    "    window = []\n",
    "    for i in range(max(0, pixel[0] - window_size // 2), min(pixel[0] + window_size // 2, image.shape[0]) + 1):\n",
    "        rows = []\n",
    "        for j in range(max(0, pixel[1] - window_size // 2), min(pixel[1] + window_size // 2, image.shape[1]) + 1):\n",
    "            colors = []\n",
    "            for k in range(3):\n",
    "                colors.append(image[i, j, k])\n",
    "            rows.append(colors)\n",
    "        window.append(rows)\n",
    "    return window\n",
    "\n",
    "# recherche des pixels qui sont voisins a l'extremité de l'image\n",
    "def getUnfilledNeighbours(image):\n",
    "    result = []\n",
    "    for i in range(image.shape[0]):\n",
    "        for j in range(image.shape[1]):\n",
    "            if((image[i, j, 0] == image[i, j, 1] == image[i, j, 2] == 0)):\n",
    "                try:\n",
    "                    if(image[i-1 : i+2, j-1 : j+2, :].any()):\n",
    "                        result.append((i, j))\n",
    "                except IndexError:\n",
    "                    print(\"pixel n'existe pas\")\n",
    "    return result\n",
    "\n",
    "def myCountNonZero(image):\n",
    "    result = 0\n",
    "    for j in range(image.shape[0]):\n",
    "        for k in range(image.shape[1]):\n",
    "            if(not image[j, k, :].any()):\n",
    "                continue\n",
    "            else:\n",
    "                result += 1\n",
    "    return result // 3\n",
    "\n",
    "window_size = 4\n",
    "sample_image = cv2.imread(\".\\\\128x128\\\\brick\\\\Brick_06-128x128.png\") / 255\n",
    "image = np.zeros((sample_image.shape[0], sample_image.shape[1], 3))\n",
    "\n",
    "image[sample_image.shape[0] // 2 - 6 : sample_image.shape[0] // 2 + 7, sample_image.shape[1] // 2 - 6 : sample_image.shape[1] // 2 + 7, :] = sample_image[sample_image.shape[0] // 2 - 6 : sample_image.shape[0] // 2 + 7, sample_image.shape[1] // 2 - 6 : sample_image.shape[1] // 2 + 7, :]\n",
    "\n",
    "image = growImage(sample_image, image, window_size)\n",
    "\n",
    "cv2.imwrite(\"sample.png\", np.ciel(image * 255))\n",
    "cv2.waitKey(0)\n",
    "cv2.destroyAllWindows()"
   ]
  },
  {
   "cell_type": "markdown",
   "metadata": {},
   "source": [
    "### Patch-based TS"
   ]
  },
  {
   "cell_type": "code",
   "execution_count": null,
   "metadata": {},
   "outputs": [],
   "source": [
    "! ..\\patch-based\\texture_synthesis.py --image_path ../patch-based/data/input9.png --block_size 30 --num_block 14 --mode Best"
   ]
  }
 ],
 "metadata": {
  "kernelspec": {
   "display_name": "Python 3",
   "language": "python",
   "name": "python3"
  },
  "language_info": {
   "codemirror_mode": {
    "name": "ipython",
    "version": 3
   },
   "file_extension": ".py",
   "mimetype": "text/x-python",
   "name": "python",
   "nbconvert_exporter": "python",
   "pygments_lexer": "ipython3",
   "version": "3.12.3"
  }
 },
 "nbformat": 4,
 "nbformat_minor": 2
}
